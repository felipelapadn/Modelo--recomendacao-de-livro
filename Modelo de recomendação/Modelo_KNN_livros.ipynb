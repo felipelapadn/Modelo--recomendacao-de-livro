{
  "cells": [
    {
      "cell_type": "markdown",
      "id": "44ea87f3",
      "metadata": {
        "id": "44ea87f3"
      },
      "source": [
        "# Craindo modelo"
      ]
    },
    {
      "cell_type": "code",
      "execution_count": null,
      "id": "366ff4e6",
      "metadata": {
        "id": "366ff4e6"
      },
      "outputs": [],
      "source": [
        "import pandas as pd\n",
        "\n",
        "SEED = 101\n",
        "\n",
        "dados_para_modelo = pd.read_csv('dados_para_modelo.csv', sep = ';')\n",
        "dados_para_modelo = dados_para_modelo.sample(n= 100000, random_state = SEED)\n",
        "dados_para_modelo.reset_index(inplace = True, drop = True)"
      ]
    },
    {
      "cell_type": "code",
      "execution_count": null,
      "id": "46f320c6",
      "metadata": {
        "id": "46f320c6"
      },
      "outputs": [],
      "source": [
        "from surprise import KNNBasic\n",
        "from surprise import Dataset\n",
        "from surprise import accuracy\n",
        "from surprise import Reader\n",
        "from surprise.model_selection import train_test_split as train_test_split_surprise"
      ]
    },
    {
      "cell_type": "code",
      "execution_count": null,
      "id": "ef1ef9c0",
      "metadata": {
        "id": "ef1ef9c0"
      },
      "outputs": [],
      "source": [
        "leitor_dados = Reader(line_format = 'item user rating')\n",
        "\n",
        "dados = Dataset.load_from_df(dados_para_modelo,\n",
        "                             reader = leitor_dados)\n",
        "\n",
        "dados_treino, dados_teste = train_test_split_surprise(dados,\n",
        "                                                      test_size = 0.3,\n",
        "                                                      random_state=SEED)"
      ]
    },
    {
      "cell_type": "markdown",
      "id": "6c028124",
      "metadata": {
        "id": "6c028124"
      },
      "source": [
        "#### Modelo KNNBasic"
      ]
    },
    {
      "cell_type": "code",
      "execution_count": null,
      "id": "0172efa5",
      "metadata": {
        "id": "0172efa5"
      },
      "outputs": [],
      "source": [
        "modelo_recomendacao_livro = KNNBasic(k = 10,\n",
        "                sim_options = {'user_based': False})"
      ]
    },
    {
      "cell_type": "code",
      "execution_count": null,
      "id": "770cb2ae",
      "metadata": {
        "id": "770cb2ae",
        "outputId": "2f3cbbaf-1139-434c-8c25-fb6cf1d8e3f1"
      },
      "outputs": [
        {
          "name": "stdout",
          "output_type": "stream",
          "text": [
            "Computing the msd similarity matrix...\n",
            "Done computing similarity matrix.\n"
          ]
        },
        {
          "data": {
            "text/plain": [
              "<surprise.prediction_algorithms.knns.KNNBasic at 0x251ddee2bb0>"
            ]
          },
          "execution_count": 47,
          "metadata": {},
          "output_type": "execute_result"
        }
      ],
      "source": [
        "modelo_recomendacao_livro.fit(dados_treino)"
      ]
    },
    {
      "cell_type": "markdown",
      "id": "1766e5c1",
      "metadata": {
        "id": "1766e5c1"
      },
      "source": [
        "#### Gerando previsões"
      ]
    },
    {
      "cell_type": "code",
      "execution_count": null,
      "id": "b9ae485a",
      "metadata": {
        "id": "b9ae485a"
      },
      "outputs": [],
      "source": [
        "previsoes = modelo_recomendacao_livro.test(dados_teste)"
      ]
    },
    {
      "cell_type": "markdown",
      "id": "98963035",
      "metadata": {
        "id": "98963035"
      },
      "source": [
        "#### Raiz quadrada do erro quadrático médio (RMSE)"
      ]
    },
    {
      "cell_type": "code",
      "execution_count": null,
      "id": "7006e2bd",
      "metadata": {
        "id": "7006e2bd",
        "outputId": "ef48ac91-7f22-4ce6-d331-0a11418f1c1d"
      },
      "outputs": [
        {
          "name": "stdout",
          "output_type": "stream",
          "text": [
            "RMSE: 3.2135\n"
          ]
        },
        {
          "data": {
            "text/plain": [
              "3.21353519136128"
            ]
          },
          "execution_count": 49,
          "metadata": {},
          "output_type": "execute_result"
        }
      ],
      "source": [
        "accuracy.rmse(previsoes)"
      ]
    },
    {
      "cell_type": "markdown",
      "id": "9deb7b8f",
      "metadata": {
        "id": "9deb7b8f"
      },
      "source": [
        "#### Gerando recomendações"
      ]
    },
    {
      "cell_type": "code",
      "execution_count": null,
      "id": "d4aadf8a",
      "metadata": {
        "id": "d4aadf8a",
        "outputId": "cb1824f8-9e6d-44ef-8713-6344d3e4c614"
      },
      "outputs": [
        {
          "data": {
            "text/plain": [
              "[542, 1979, 2345, 2531, 2584, 6167, 7206, 10615, 14895, 20550]"
            ]
          },
          "execution_count": 50,
          "metadata": {},
          "output_type": "execute_result"
        }
      ],
      "source": [
        "modelo_recomendacao_livro.get_neighbors(200, k = 10) #index da linha"
      ]
    },
    {
      "cell_type": "code",
      "execution_count": null,
      "id": "aeea957e",
      "metadata": {
        "id": "aeea957e",
        "outputId": "e4af0386-63c3-4296-d69e-3587a2489648"
      },
      "outputs": [
        {
          "data": {
            "text/html": [
              "<div>\n",
              "<style scoped>\n",
              "    .dataframe tbody tr th:only-of-type {\n",
              "        vertical-align: middle;\n",
              "    }\n",
              "\n",
              "    .dataframe tbody tr th {\n",
              "        vertical-align: top;\n",
              "    }\n",
              "\n",
              "    .dataframe thead th {\n",
              "        text-align: right;\n",
              "    }\n",
              "</style>\n",
              "<table border=\"1\" class=\"dataframe\">\n",
              "  <thead>\n",
              "    <tr style=\"text-align: right;\">\n",
              "      <th></th>\n",
              "      <th>titulo_do_livro</th>\n",
              "      <th>usuarioid</th>\n",
              "      <th>avaliacao_livro</th>\n",
              "    </tr>\n",
              "  </thead>\n",
              "  <tbody>\n",
              "    <tr>\n",
              "      <th>542</th>\n",
              "      <td>Missing Susan: An Elizabeth Macpherson Mystery</td>\n",
              "      <td>271438</td>\n",
              "      <td>7.0</td>\n",
              "    </tr>\n",
              "    <tr>\n",
              "      <th>1979</th>\n",
              "      <td>In the Blink of an Eye Revised 2nd Edition</td>\n",
              "      <td>56856</td>\n",
              "      <td>9.0</td>\n",
              "    </tr>\n",
              "    <tr>\n",
              "      <th>2345</th>\n",
              "      <td>Caroline'S Child (Heart Of Texas) (Power Trilogy)</td>\n",
              "      <td>66067</td>\n",
              "      <td>8.0</td>\n",
              "    </tr>\n",
              "    <tr>\n",
              "      <th>2531</th>\n",
              "      <td>Golf courses of the PGA Tour</td>\n",
              "      <td>248419</td>\n",
              "      <td>7.0</td>\n",
              "    </tr>\n",
              "    <tr>\n",
              "      <th>2584</th>\n",
              "      <td>Tao Te Ching (Penguin Classics)</td>\n",
              "      <td>68846</td>\n",
              "      <td>10.0</td>\n",
              "    </tr>\n",
              "    <tr>\n",
              "      <th>6167</th>\n",
              "      <td>Johnny Tremain (Yearling Newbery)</td>\n",
              "      <td>93141</td>\n",
              "      <td>5.0</td>\n",
              "    </tr>\n",
              "    <tr>\n",
              "      <th>7206</th>\n",
              "      <td>Le Temple Du Soleil / Prisoners of the Sun (Ti...</td>\n",
              "      <td>196148</td>\n",
              "      <td>9.0</td>\n",
              "    </tr>\n",
              "    <tr>\n",
              "      <th>10615</th>\n",
              "      <td>Letters from Jenny</td>\n",
              "      <td>128942</td>\n",
              "      <td>7.0</td>\n",
              "    </tr>\n",
              "    <tr>\n",
              "      <th>14895</th>\n",
              "      <td>Fortune's Hand</td>\n",
              "      <td>277466</td>\n",
              "      <td>7.0</td>\n",
              "    </tr>\n",
              "    <tr>\n",
              "      <th>20550</th>\n",
              "      <td>Civil Rights Actions: Enforcing the Constituti...</td>\n",
              "      <td>76499</td>\n",
              "      <td>10.0</td>\n",
              "    </tr>\n",
              "  </tbody>\n",
              "</table>\n",
              "</div>"
            ],
            "text/plain": [
              "                                         titulo_do_livro  usuarioid  \\\n",
              "542       Missing Susan: An Elizabeth Macpherson Mystery     271438   \n",
              "1979          In the Blink of an Eye Revised 2nd Edition      56856   \n",
              "2345   Caroline'S Child (Heart Of Texas) (Power Trilogy)      66067   \n",
              "2531                        Golf courses of the PGA Tour     248419   \n",
              "2584                     Tao Te Ching (Penguin Classics)      68846   \n",
              "6167                   Johnny Tremain (Yearling Newbery)      93141   \n",
              "7206   Le Temple Du Soleil / Prisoners of the Sun (Ti...     196148   \n",
              "10615                                 Letters from Jenny     128942   \n",
              "14895                                     Fortune's Hand     277466   \n",
              "20550  Civil Rights Actions: Enforcing the Constituti...      76499   \n",
              "\n",
              "       avaliacao_livro  \n",
              "542                7.0  \n",
              "1979               9.0  \n",
              "2345               8.0  \n",
              "2531               7.0  \n",
              "2584              10.0  \n",
              "6167               5.0  \n",
              "7206               9.0  \n",
              "10615              7.0  \n",
              "14895              7.0  \n",
              "20550             10.0  "
            ]
          },
          "execution_count": 51,
          "metadata": {},
          "output_type": "execute_result"
        }
      ],
      "source": [
        "dados_para_modelo.iloc[modelo_recomendacao_livro.get_neighbors(200, k = 10)]"
      ]
    },
    {
      "cell_type": "code",
      "execution_count": null,
      "id": "9cf07ad3",
      "metadata": {
        "id": "9cf07ad3",
        "outputId": "7494b9be-c374-4dc8-ad41-2a9a74cbaf72"
      },
      "outputs": [
        {
          "data": {
            "text/html": [
              "<div>\n",
              "<style scoped>\n",
              "    .dataframe tbody tr th:only-of-type {\n",
              "        vertical-align: middle;\n",
              "    }\n",
              "\n",
              "    .dataframe tbody tr th {\n",
              "        vertical-align: top;\n",
              "    }\n",
              "\n",
              "    .dataframe thead th {\n",
              "        text-align: right;\n",
              "    }\n",
              "</style>\n",
              "<table border=\"1\" class=\"dataframe\">\n",
              "  <thead>\n",
              "    <tr style=\"text-align: right;\">\n",
              "      <th></th>\n",
              "      <th>titulo_do_livro</th>\n",
              "      <th>usuarioid</th>\n",
              "      <th>avaliacao_livro</th>\n",
              "    </tr>\n",
              "  </thead>\n",
              "  <tbody>\n",
              "    <tr>\n",
              "      <th>200</th>\n",
              "      <td>Suddenly</td>\n",
              "      <td>177375</td>\n",
              "      <td>9.0</td>\n",
              "    </tr>\n",
              "  </tbody>\n",
              "</table>\n",
              "</div>"
            ],
            "text/plain": [
              "    titulo_do_livro  usuarioid  avaliacao_livro\n",
              "200        Suddenly     177375              9.0"
            ]
          },
          "execution_count": 52,
          "metadata": {},
          "output_type": "execute_result"
        }
      ],
      "source": [
        "dados_para_modelo.iloc[[200]]"
      ]
    },
    {
      "cell_type": "markdown",
      "id": "e37f6dc9",
      "metadata": {
        "id": "e37f6dc9"
      },
      "source": [
        "### Função para recomendar com base no id do usuário"
      ]
    },
    {
      "cell_type": "code",
      "execution_count": null,
      "id": "402f52c2",
      "metadata": {
        "id": "402f52c2"
      },
      "outputs": [],
      "source": [
        "def recomendar(referencia: int, quantidade: int):\n",
        "    user_ref = dados_para_modelo.query('usuarioid == @referencia').index[0]\n",
        "    lista_livros = modelo_recomendacao_livro.get_neighbors(user_ref, k = quantidade)\n",
        "    lista_livros = dados_para_modelo.iloc[lista_livros]\n",
        "    lista_livros = lista_livros[['titulo_do_livro', 'avaliacao_livro']].set_index(\"titulo_do_livro\")\n",
        "    return lista_livros"
      ]
    },
    {
      "cell_type": "code",
      "execution_count": null,
      "id": "36effa7a",
      "metadata": {
        "id": "36effa7a",
        "outputId": "a74923ff-a00f-4fd1-a0b0-d179d546dcfc"
      },
      "outputs": [
        {
          "data": {
            "text/html": [
              "<div>\n",
              "<style scoped>\n",
              "    .dataframe tbody tr th:only-of-type {\n",
              "        vertical-align: middle;\n",
              "    }\n",
              "\n",
              "    .dataframe tbody tr th {\n",
              "        vertical-align: top;\n",
              "    }\n",
              "\n",
              "    .dataframe thead th {\n",
              "        text-align: right;\n",
              "    }\n",
              "</style>\n",
              "<table border=\"1\" class=\"dataframe\">\n",
              "  <thead>\n",
              "    <tr style=\"text-align: right;\">\n",
              "      <th></th>\n",
              "      <th>avaliacao_livro</th>\n",
              "    </tr>\n",
              "    <tr>\n",
              "      <th>titulo_do_livro</th>\n",
              "      <th></th>\n",
              "    </tr>\n",
              "  </thead>\n",
              "  <tbody>\n",
              "    <tr>\n",
              "      <th>Suddenly</th>\n",
              "      <td>9.0</td>\n",
              "    </tr>\n",
              "    <tr>\n",
              "      <th>The Scar</th>\n",
              "      <td>10.0</td>\n",
              "    </tr>\n",
              "    <tr>\n",
              "      <th>Harry Potter and the Order of the Phoenix (Book 5)</th>\n",
              "      <td>10.0</td>\n",
              "    </tr>\n",
              "    <tr>\n",
              "      <th>The Firm</th>\n",
              "      <td>9.0</td>\n",
              "    </tr>\n",
              "    <tr>\n",
              "      <th>Mondlaub.</th>\n",
              "      <td>5.0</td>\n",
              "    </tr>\n",
              "    <tr>\n",
              "      <th>Renegade (Palmer, Diana)</th>\n",
              "      <td>7.0</td>\n",
              "    </tr>\n",
              "    <tr>\n",
              "      <th>Texasville</th>\n",
              "      <td>8.0</td>\n",
              "    </tr>\n",
              "    <tr>\n",
              "      <th>Kiss Mommy Goodbye</th>\n",
              "      <td>8.0</td>\n",
              "    </tr>\n",
              "    <tr>\n",
              "      <th>Unleashing the Ideavirus</th>\n",
              "      <td>7.0</td>\n",
              "    </tr>\n",
              "    <tr>\n",
              "      <th>Running with Scissors: A Memoir</th>\n",
              "      <td>5.0</td>\n",
              "    </tr>\n",
              "  </tbody>\n",
              "</table>\n",
              "</div>"
            ],
            "text/plain": [
              "                                                    avaliacao_livro\n",
              "titulo_do_livro                                                    \n",
              "Suddenly                                                        9.0\n",
              "The Scar                                                       10.0\n",
              "Harry Potter and the Order of the Phoenix (Book 5)             10.0\n",
              "The Firm                                                        9.0\n",
              "Mondlaub.                                                       5.0\n",
              "Renegade (Palmer, Diana)                                        7.0\n",
              "Texasville                                                      8.0\n",
              "Kiss Mommy Goodbye                                              8.0\n",
              "Unleashing the Ideavirus                                        7.0\n",
              "Running with Scissors: A Memoir                                 5.0"
            ]
          },
          "execution_count": 54,
          "metadata": {},
          "output_type": "execute_result"
        }
      ],
      "source": [
        "recomendar(68846, 10)"
      ]
    },
    {
      "cell_type": "markdown",
      "id": "160b90c3",
      "metadata": {
        "id": "160b90c3"
      },
      "source": [
        "###  Observando qual livro é mais recomendado (para os primeiros 10 usuários)"
      ]
    },
    {
      "cell_type": "code",
      "execution_count": null,
      "id": "7df2e155",
      "metadata": {
        "scrolled": true,
        "id": "7df2e155",
        "outputId": "a888ab66-e5e6-464f-812b-5ba70eb11b4c"
      },
      "outputs": [
        {
          "data": {
            "text/plain": [
              "0    126196\n",
              "1    156462\n",
              "2    217818\n",
              "3    150424\n",
              "4     36741\n",
              "5     68383\n",
              "6     16795\n",
              "7    114368\n",
              "8    249732\n",
              "9    179734\n",
              "Name: usuarioid, dtype: int64"
            ]
          },
          "execution_count": 55,
          "metadata": {},
          "output_type": "execute_result"
        }
      ],
      "source": [
        "usuarios = dados_para_modelo.usuarioid.head(10)\n",
        "usuarios"
      ]
    },
    {
      "cell_type": "code",
      "execution_count": null,
      "id": "cd82ca08",
      "metadata": {
        "id": "cd82ca08"
      },
      "outputs": [],
      "source": [
        "recomendacoes = []\n",
        "\n",
        "for usuario in usuarios:\n",
        "    recomendacao_modelo = recomendar(usuario, 10)\n",
        "    for livro in recomendacao_modelo.index:\n",
        "        recomendacoes.append(livro)"
      ]
    },
    {
      "cell_type": "code",
      "execution_count": null,
      "id": "f44ba859",
      "metadata": {
        "id": "f44ba859",
        "outputId": "d5714dfc-8264-4789-afff-c0c5516b0b29"
      },
      "outputs": [
        {
          "data": {
            "text/plain": [
              "100"
            ]
          },
          "execution_count": 57,
          "metadata": {},
          "output_type": "execute_result"
        }
      ],
      "source": [
        "len(recomendacoes)"
      ]
    },
    {
      "cell_type": "code",
      "execution_count": null,
      "id": "5d794634",
      "metadata": {
        "id": "5d794634",
        "outputId": "e038fac2-95c9-4b24-f559-54458b26318e"
      },
      "outputs": [
        {
          "data": {
            "text/plain": [
              "Counter({'Hanging by a Thread (Ferris, Monica. Needlecraft Mysteries.)': 1,\n",
              "         'Best Plants for Your Garden': 1,\n",
              "         'The Gift': 1,\n",
              "         \"Tintin Au Pays de L'Or Noir / Land of Black Gold (Tintin)\": 1,\n",
              "         'One Wish': 1,\n",
              "         \"Discover and Explore Toronto's Waterfront: A Walker's Jogger's Cyclist's Boater's Guide to Toronto's Lakeside Sites and History (The Toronto Sketches Series)\": 1,\n",
              "         'DREADFUL FUTURE OF THE BLOSSOM CULP, THE': 1,\n",
              "         'Das MÃ?Â¤dchen. (Schwarzer Umschlag).': 1,\n",
              "         'Acid Row': 1,\n",
              "         'The Green Mile': 1,\n",
              "         'Dealing With Dragons (Enchanted Forest Chronicles (Paperback))': 1,\n",
              "         'The Calvin and Hobbes Tenth Anniversary Book': 1,\n",
              "         'The Drawing of the Three (The Dark Tower, Book 2)': 1,\n",
              "         'Your Oasis on Flame Lake': 1,\n",
              "         'Narrative of the Life of Frederick Douglass an American Slave (Bedford Books in American History)': 1,\n",
              "         \"Conquerors' Pride (The Conquerors Saga, Book One)\": 1,\n",
              "         \"Dr. Atkins' New Diet Revolution\": 1,\n",
              "         'Quentins': 5,\n",
              "         'The Secret Life of Bees': 5,\n",
              "         'Murder in the White House': 5,\n",
              "         'Charming the Prince': 1,\n",
              "         'Shoeless Joe': 1,\n",
              "         'The Hoboken Chicken Emergency': 1,\n",
              "         \"The Modern Witch's Guide to Magic and Spells\": 1,\n",
              "         'The Blind Assassin': 1,\n",
              "         'The Other Boleyn Girl': 1,\n",
              "         'The Queen of the Damned (Vampire Chronicles (Paperback))': 1,\n",
              "         'Sleeping Beauty Novels': 1,\n",
              "         'The Face on the Milk Carton': 1,\n",
              "         'Der SchÃ?Â¼tzling.': 1,\n",
              "         'The Lady': 1,\n",
              "         'The Science of Self-Realization': 1,\n",
              "         \"Dead Girls Don't Wear Diamonds (Blackbird Sisters Mysteries)\": 1,\n",
              "         'Oliver Twist (Penguin Classics)': 1,\n",
              "         'Saint Maybe': 1,\n",
              "         'Key Witness': 1,\n",
              "         'The Wildflowers (omnibus) : Misty--Star--Jade--Cat (Wildflowers (Paperback))': 1,\n",
              "         'Slow Hand: Women Writing Erotica': 1,\n",
              "         'From strength to strength: An autobiography': 1,\n",
              "         'Where the Wild Rose Blooms: A Novel (Rocky Mountain Memories Series/Lori Wick, 1)': 1,\n",
              "         'Derailed': 1,\n",
              "         \"Le Parfum : Histoire d'un meurtrier\": 1,\n",
              "         'Better Homes and Gardens Vegetarian Recipes (Cooking for Today)': 1,\n",
              "         'Die Pforten der Macht 2. Der dunkle Thron.': 1,\n",
              "         'Revelation Space': 1,\n",
              "         'Stuart Little Search and Find': 1,\n",
              "         \"The Jeffrey Dahmer Story : An American Nightmare (St. Martin's True Crime Library)\": 1,\n",
              "         'Murder Runs in the Family: A Southern Sisters Mystery': 1,\n",
              "         'The Digging-Est Dog': 1,\n",
              "         'Beyond the Burning Time (Point Signature)': 1,\n",
              "         'Treat Her Right (Men To The Rescue) (Harlequin Temptation, No. 852)': 4,\n",
              "         'The Norton Introduction to Literature': 4,\n",
              "         'Listen Up: How to Improve Relationships, Reduce Stress, and Be More Productive by Using the Power of Listening': 4,\n",
              "         'In Too Deep': 2,\n",
              "         \"Gabriel's Well\": 3,\n",
              "         'Bad Heir Day': 2,\n",
              "         'One for the Money (A Stephanie Plum Novel)': 2,\n",
              "         'Early Medieval Art: Carolingian, Ottonian, Romanesque (World of Art)': 1,\n",
              "         'The Braided World': 1,\n",
              "         'Cradle and All': 1,\n",
              "         'Bill, the Galactic Hero': 1,\n",
              "         'Renunciates of Darkover (Darkover)': 1,\n",
              "         'Wolves of the Calla (The Dark Tower, Book 5)': 1,\n",
              "         'Child of War, Woman of Peace': 1,\n",
              "         'About Face': 1,\n",
              "         \"Don't Let Your Mind Stunt Your Growth: Stories, Fables, and Techniques That Will Set Your Mind Free\": 1,\n",
              "         'The Aromatherapy Workbook: Understanding Essential Oils from Plant to Bottle': 1,\n",
              "         \"What to Expect When You're Expecting (Revised Edition)\": 3,\n",
              "         'Pamela': 1,\n",
              "         'Fever Pitch': 1,\n",
              "         'Interest of Justice': 1,\n",
              "         'Cinderella': 1})"
            ]
          },
          "execution_count": 58,
          "metadata": {},
          "output_type": "execute_result"
        }
      ],
      "source": [
        "from collections import Counter\n",
        "\n",
        "Counter(recomendacoes)"
      ]
    },
    {
      "cell_type": "code",
      "execution_count": null,
      "id": "63ffa2f1",
      "metadata": {
        "id": "63ffa2f1",
        "outputId": "6d6b0692-f386-4676-ffae-57fb1166a7e4"
      },
      "outputs": [
        {
          "data": {
            "text/plain": [
              "dict_values([1, 1, 1, 1, 1, 1, 1, 1, 1, 1, 1, 1, 1, 1, 1, 1, 1, 5, 5, 5, 1, 1, 1, 1, 1, 1, 1, 1, 1, 1, 1, 1, 1, 1, 1, 1, 1, 1, 1, 1, 1, 1, 1, 1, 1, 1, 1, 1, 1, 1, 4, 4, 4, 2, 3, 2, 2, 1, 1, 1, 1, 1, 1, 1, 1, 1, 1, 3, 1, 1, 1, 1])"
            ]
          },
          "execution_count": 59,
          "metadata": {},
          "output_type": "execute_result"
        }
      ],
      "source": [
        "Counter(recomendacoes).values()"
      ]
    },
    {
      "cell_type": "code",
      "execution_count": null,
      "id": "ab9c5d40",
      "metadata": {
        "id": "ab9c5d40"
      },
      "outputs": [],
      "source": [
        "dicionario_livros_aparicoes = dict(Counter(recomendacoes))"
      ]
    },
    {
      "cell_type": "code",
      "execution_count": null,
      "id": "0982ad04",
      "metadata": {
        "id": "0982ad04"
      },
      "outputs": [],
      "source": [
        "livro_recomandado_mais_de_1_vez = dict()\n",
        "\n",
        "for livro in dicionario_livros_aparicoes:\n",
        "    if dicionario_livros_aparicoes[livro] > 1:\n",
        "        livro_recomandado_mais_de_1_vez[livro] = dicionario_livros_aparicoes[livro]"
      ]
    },
    {
      "cell_type": "code",
      "execution_count": null,
      "id": "b306471d",
      "metadata": {
        "id": "b306471d",
        "outputId": "822c9b97-c99f-4f2b-de2d-b708bbd014ea"
      },
      "outputs": [
        {
          "data": {
            "text/plain": [
              "{'Quentins': 5,\n",
              " 'The Secret Life of Bees': 5,\n",
              " 'Murder in the White House': 5,\n",
              " 'Treat Her Right (Men To The Rescue) (Harlequin Temptation, No. 852)': 4,\n",
              " 'The Norton Introduction to Literature': 4,\n",
              " 'Listen Up: How to Improve Relationships, Reduce Stress, and Be More Productive by Using the Power of Listening': 4,\n",
              " 'In Too Deep': 2,\n",
              " \"Gabriel's Well\": 3,\n",
              " 'Bad Heir Day': 2,\n",
              " 'One for the Money (A Stephanie Plum Novel)': 2,\n",
              " \"What to Expect When You're Expecting (Revised Edition)\": 3}"
            ]
          },
          "execution_count": 62,
          "metadata": {},
          "output_type": "execute_result"
        }
      ],
      "source": [
        "livro_recomandado_mais_de_1_vez"
      ]
    },
    {
      "cell_type": "markdown",
      "id": "40863e8a",
      "metadata": {
        "id": "40863e8a"
      },
      "source": [
        "#### Gráfico"
      ]
    },
    {
      "cell_type": "code",
      "execution_count": null,
      "id": "ef889f87",
      "metadata": {
        "id": "ef889f87"
      },
      "outputs": [],
      "source": [
        "import seaborn as sns\n",
        "import matplotlib.pyplot as plt\n",
        "%matplotlib inline"
      ]
    },
    {
      "cell_type": "code",
      "execution_count": null,
      "id": "e0e20fba",
      "metadata": {
        "id": "e0e20fba"
      },
      "outputs": [],
      "source": [
        "livros_recomandado_ordem = []\n",
        "\n",
        "for livro in sorted(livro_recomandado_mais_de_1_vez, key = livro_recomandado_mais_de_1_vez.get, reverse = True):\n",
        "    livros_recomandado_ordem.append(livro)"
      ]
    },
    {
      "cell_type": "code",
      "execution_count": null,
      "id": "61e673b3",
      "metadata": {
        "id": "61e673b3",
        "outputId": "239992bc-c3c8-4228-f56d-0537f5b323d9"
      },
      "outputs": [
        {
          "data": {
            "image/png": "[encoded data removed]",
            "text/plain": [
              "<Figure size 1440x720 with 1 Axes>"
            ]
          },
          "metadata": {},
          "output_type": "display_data"
        }
      ],
      "source": [
        "eixo_x = list(livro_recomandado_mais_de_1_vez.values())\n",
        "eixo_y = list(livro_recomandado_mais_de_1_vez.keys())\n",
        "\n",
        "sns.set(rc={'figure.figsize':(20,10), 'font.size' : 15}, font_scale = 2)\n",
        "sns.set_style(\"ticks\")\n",
        "\n",
        "cores = ['royalblue', 'royalblue', 'royalblue', 'grey', 'grey', 'grey', 'grey', 'grey', 'grey', 'grey', 'grey']\n",
        "\n",
        "grafico_notas = sns.barplot(x = eixo_x, y = eixo_y, palette = cores, order = livros_recomandado_ordem)\n",
        "\n",
        "grafico_notas.set_xlabel('Contagem de recomendações', fontsize = 25)\n",
        "grafico_notas.set_title(\"Livros mais recomendados\", fontsize = 45, pad =15, loc = 'left', alpha = 0.7)\n",
        "\n",
        "sns.despine(left = True)\n",
        "plt.show()"
      ]
    },
    {
      "cell_type": "code",
      "execution_count": null,
      "id": "9113adad",
      "metadata": {
        "id": "9113adad"
      },
      "outputs": [],
      "source": [
        ""
      ]
    }
  ],
  "metadata": {
    "kernelspec": {
      "display_name": "Python 3 (ipykernel)",
      "language": "python",
      "name": "python3"
    },
    "language_info": {
      "codemirror_mode": {
        "name": "ipython",
        "version": 3
      },
      "file_extension": ".py",
      "mimetype": "text/x-python",
      "name": "python",
      "nbconvert_exporter": "python",
      "pygments_lexer": "ipython3",
      "version": "3.9.7"
    },
    "colab": {
      "name": "Modelo KNN - livros.ipynb",
      "provenance": []
    }
  },
  "nbformat": 4,
  "nbformat_minor": 5
}